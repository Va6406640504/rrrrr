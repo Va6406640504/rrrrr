{
  "nbformat": 4,
  "nbformat_minor": 0,
  "metadata": {
    "colab": {
      "provenance": []
    },
    "kernelspec": {
      "name": "python3",
      "display_name": "Python 3"
    },
    "language_info": {
      "name": "python"
    }
  },
  "cells": [
    {
      "cell_type": "code",
      "execution_count": 12,
      "metadata": {
        "colab": {
          "base_uri": "https://localhost:8080/"
        },
        "id": "_5iNFCXgZv7T",
        "outputId": "da6adb10-0654-4350-9543-6df638183be7"
      },
      "outputs": [
        {
          "output_type": "execute_result",
          "data": {
            "text/plain": [
              "Profession\n",
              "Artist           108776.580065\n",
              "Doctor           111573.217391\n",
              "Engineer         111161.240223\n",
              "Entertainment    110650.333333\n",
              "Executive        113770.130719\n",
              "Healthcare       112574.041298\n",
              "Homemaker        108758.616667\n",
              "Lawyer           110995.838028\n",
              "Marketing        107994.211765\n",
              "Name: Income, dtype: float64"
            ]
          },
          "metadata": {},
          "execution_count": 12
        }
      ],
      "source": [
        "import pandas as pd\n",
        "df = pd.read_csv('/content/Customers(4).csv', delimiter=';')\n",
        "df.dropna(inplace=True)\n",
        "df.groupby('Profession')['Income'].mean()"
      ]
    }
  ]
}