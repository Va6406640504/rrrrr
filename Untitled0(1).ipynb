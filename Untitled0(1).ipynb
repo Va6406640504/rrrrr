{
  "nbformat": 4,
  "nbformat_minor": 0,
  "metadata": {
    "colab": {
      "provenance": []
    },
    "kernelspec": {
      "name": "python3",
      "display_name": "Python 3"
    },
    "language_info": {
      "name": "python"
    }
  },
  "cells": [
    {
      "cell_type": "code",
      "source": [
        "import pandas as pd\n",
        "\n",
        "data = {'Римские': ['I','II','III','IIII','V'],\n",
        "        'Арабские': [1, 2, 3, 4, 5],\n",
        "        'Китайские': ['一', '二', '三', '四',\t'五'],\n",
        "        'Греческие': ['α', 'β', 'γ', 'δ', 'ε']}\n",
        "\n",
        "print(df.head(1))\n",
        "print(df.tail(3))\n",
        "df = pd.DataFrame(data)\n",
        "df.to_csv('file.csv', index=False)"
      ],
      "metadata": {
        "colab": {
          "base_uri": "https://localhost:8080/"
        },
        "id": "LpqOTynjBaUI",
        "outputId": "c8ce8775-d14c-41de-e903-a474b979f0cb"
      },
      "execution_count": 25,
      "outputs": [
        {
          "output_type": "stream",
          "name": "stdout",
          "text": [
            "  Римские  Арабские Китайские Греческие\n",
            "0       I         1         一         α\n",
            "  Римские  Арабские Китайские Греческие\n",
            "2     III         3         三         γ\n",
            "3    IIII         4         四         δ\n",
            "4       V         5         五         ε\n"
          ]
        }
      ]
    }
  ]
}