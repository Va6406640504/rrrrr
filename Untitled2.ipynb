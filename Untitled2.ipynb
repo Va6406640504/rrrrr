{
  "nbformat": 4,
  "nbformat_minor": 0,
  "metadata": {
    "colab": {
      "provenance": []
    },
    "kernelspec": {
      "name": "python3",
      "display_name": "Python 3"
    },
    "language_info": {
      "name": "python"
    }
  },
  "cells": [
    {
      "cell_type": "code",
      "execution_count": 1,
      "metadata": {
        "colab": {
          "base_uri": "https://localhost:8080/"
        },
        "id": "xDRlkOYOp8RD",
        "outputId": "925826f6-564c-4505-fdfc-a121532312a6"
      },
      "outputs": [
        {
          "output_type": "stream",
          "name": "stdout",
          "text": [
            "Процент элементов в векторе, больших 7: 24.0%\n"
          ]
        }
      ],
      "source": [
        "import numpy as np\n",
        "\n",
        "arr = np.random.randint(1, 11, size=100)\n",
        "percent_greater_than_7 = np.mean(arr > 7) * 100\n",
        "print(f\"Процент элементов в векторе, больших 7: {percent_greater_than_7}%\")"
      ]
    },
    {
      "cell_type": "code",
      "source": [
        "import numpy as np\n",
        "\n",
        "results = []\n",
        "for _ in range(1000):\n",
        "    arr = np.random.randint(1, 11, size=100)\n",
        "    percent_greater_than_7 = np.mean(arr > 7) * 100\n",
        "    results.append(percent_greater_than_7)\n",
        "\n",
        "equal_to_20_percent = np.mean(np.array(results) == 20)\n",
        "print(f\"Часть результатов, равных 20%: {equal_to_20_percent}\")"
      ],
      "metadata": {
        "colab": {
          "base_uri": "https://localhost:8080/"
        },
        "id": "Mu6WGWa-qDuN",
        "outputId": "6f1f9305-bf7a-432e-8567-2b0403fa24b1"
      },
      "execution_count": 2,
      "outputs": [
        {
          "output_type": "stream",
          "name": "stdout",
          "text": [
            "Часть результатов, равных 20%: 0.008\n"
          ]
        }
      ]
    },
    {
      "cell_type": "code",
      "source": [
        "import numpy as np\n",
        "\n",
        "matrix = np.tile(np.arange(1, 11), (10, 1))\n",
        "print(matrix)"
      ],
      "metadata": {
        "colab": {
          "base_uri": "https://localhost:8080/"
        },
        "id": "VM_j2s43qHtt",
        "outputId": "94f8ee58-360b-4d49-e876-7df308d8c771"
      },
      "execution_count": 3,
      "outputs": [
        {
          "output_type": "stream",
          "name": "stdout",
          "text": [
            "[[ 1  2  3  4  5  6  7  8  9 10]\n",
            " [ 1  2  3  4  5  6  7  8  9 10]\n",
            " [ 1  2  3  4  5  6  7  8  9 10]\n",
            " [ 1  2  3  4  5  6  7  8  9 10]\n",
            " [ 1  2  3  4  5  6  7  8  9 10]\n",
            " [ 1  2  3  4  5  6  7  8  9 10]\n",
            " [ 1  2  3  4  5  6  7  8  9 10]\n",
            " [ 1  2  3  4  5  6  7  8  9 10]\n",
            " [ 1  2  3  4  5  6  7  8  9 10]\n",
            " [ 1  2  3  4  5  6  7  8  9 10]]\n"
          ]
        }
      ]
    },
    {
      "cell_type": "code",
      "source": [
        "import numpy as np\n",
        "\n",
        "matrix = np.arange(1, 101).reshape(10, 10)\n",
        "column_sums = np.sum(matrix, axis=0)\n",
        "print(column_sums)"
      ],
      "metadata": {
        "id": "j5KjBagjqOr8",
        "outputId": "eda8177d-3324-4160-db80-3ac74236fe98",
        "colab": {
          "base_uri": "https://localhost:8080/"
        }
      },
      "execution_count": 4,
      "outputs": [
        {
          "output_type": "stream",
          "name": "stdout",
          "text": [
            "[460 470 480 490 500 510 520 530 540 550]\n"
          ]
        }
      ]
    }
  ]
}